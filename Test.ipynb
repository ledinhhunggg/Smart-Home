{
 "cells": [
  {
   "cell_type": "code",
   "execution_count": 1,
   "metadata": {},
   "outputs": [],
   "source": [
    "from pop import Textlcd \n",
    "import time\n",
    "\n",
    "lcd = Textlcd()\n",
    "\n",
    "str = \" DH SPKT \"\n",
    "time.sleep(1)\n",
    "lcd.clear() \n",
    "lcd.print(str)\n",
    "time.sleep(1)\n",
    "lcd.displayShiftR()\n",
    "time.sleep(1)\n",
    "lcd.displayShiftL()\n",
    "time.sleep(1)\n",
    "lcd.displayOff()\n",
    "time.sleep(1)\n",
    "lcd.displayOn()\n",
    "time.sleep(1)"
   ]
  },
  {
   "cell_type": "code",
   "execution_count": 3,
   "metadata": {},
   "outputs": [],
   "source": [
    "from pop import PwmController\n",
    "import time\n",
    "\n",
    "pwm = PwmController()\n",
    "pwm.init()\n",
    "pwm.setChannel(-1)\n",
    "pwm.setFreq(50)\n",
    "\n",
    "pwm.setChannel(0)\n",
    "for i in range(10):\n",
    "    pwm.setDuty(i*10)\n",
    "    time.sleep(0.5)\n",
    "pwm.setDuty(0)\n",
    "\n",
    "pwm.setChannel(1)\n",
    "for i in range(10):\n",
    "    pwm.setDuty(i*10)\n",
    "    time.sleep(0.5)\n",
    "pwm.setDuty(0)\n",
    "\n",
    "pwm.setChannel(2)\n",
    "for i in range(10):\n",
    "    pwm.setDuty(i*10)\n",
    "    time.sleep(0.5)\n",
    "pwm.setDuty(0)"
   ]
  },
  {
   "cell_type": "code",
   "execution_count": null,
   "metadata": {},
   "outputs": [],
   "source": [
    "from pop import SpiAdc\n",
    "import time\n",
    "\n",
    "cds = SpiAdc(7)\n",
    "\n",
    "while True:\n",
    "    val = cds.read()\n",
    "    print(val)\n",
    "    time.sleep(1)"
   ]
  },
  {
   "cell_type": "code",
   "execution_count": null,
   "metadata": {},
   "outputs": [],
   "source": [
    "from pop import Pir\n",
    "import time\n",
    "\n",
    "pir = Pir(22)\n",
    "\n",
    "while True:\n",
    "    ret = pir.read()\n",
    "    if (ret == True):\n",
    "        print(\"detect...\")\n",
    "        time.sleep(2)\n",
    "    else:\n",
    "        time.sleep(0.1)"
   ]
  },
  {
   "cell_type": "code",
   "execution_count": null,
   "metadata": {},
   "outputs": [],
   "source": [
    "from pop import Touch, Led\n",
    "import os,time\n",
    "leds = [Led(23), Led(24), Led(25), Led(27)]\n",
    "sw = Touch()\n",
    "\n",
    "data = []\n",
    "flag = False\n",
    "\n",
    "while True:\n",
    "    if sw.readChannel(0):\t\n",
    "        flag = not flag\n",
    "        if (flag):\n",
    "            for led in leds:\n",
    "                led.on()\n",
    "            print(\"Light On\")\n",
    "            os.system(\"play -q light_on.mp3\")  \n",
    "        else:\n",
    "            for led in leds:\n",
    "                led.off()\n",
    "            print(\"Light Off\")\n",
    "            os.system(\"play -q light_off.mp3\")\n",
    "        time.sleep(3)"
   ]
  },
  {
   "cell_type": "code",
   "execution_count": null,
   "metadata": {},
   "outputs": [],
   "source": [
    "from pop import PwmController\n",
    "import time\n",
    "\n",
    "pwm = PwmController()\n",
    "pwm.init()\n",
    "pwm.setChannel(4)\n",
    "pwm.setFreq(50)\n",
    "while True:\n",
    "    pwm.setDuty((0.5/20)*100)\n",
    "    time.sleep(3)\n",
    "    pwm.setDuty((1.5/20)*100)\n",
    "    time.sleep(3)\n",
    "    pwm.setDuty((2.5/20)*100)\n",
    "    time.sleep(3)"
   ]
  },
  {
   "cell_type": "code",
   "execution_count": null,
   "metadata": {},
   "outputs": [],
   "source": [
    "from pop import ShiftRegister\n",
    "import time \n",
    "\n",
    "gpio = [16,5,6]\n",
    "s = ShiftRegister(gpio)\n",
    "\n",
    "while True:\n",
    "    s.shiftout(0xff)\n",
    "    time.sleep(1)\n",
    "    s.shiftout(0x00)\n",
    "    time.sleep(1)\n",
    "    s.shiftout(0x00)\n",
    "    time.sleep(1)"
   ]
  },
  {
   "cell_type": "code",
   "execution_count": null,
   "metadata": {},
   "outputs": [],
   "source": []
  }
 ],
 "metadata": {
  "kernelspec": {
   "display_name": "Python 3",
   "language": "python",
   "name": "python3"
  },
  "language_info": {
   "codemirror_mode": {
    "name": "ipython",
    "version": 3
   },
   "file_extension": ".py",
   "mimetype": "text/x-python",
   "name": "python",
   "nbconvert_exporter": "python",
   "pygments_lexer": "ipython3",
   "version": "3.6.9"
  }
 },
 "nbformat": 4,
 "nbformat_minor": 4
}
