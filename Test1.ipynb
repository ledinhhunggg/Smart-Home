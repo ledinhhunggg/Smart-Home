{
 "cells": [
  {
   "cell_type": "code",
   "execution_count": null,
   "metadata": {},
   "outputs": [],
   "source": [
    "import cv2\n",
    "from pop import Util\n",
    "\n",
    "Util.enable_imshow()\n",
    "\n",
    "cam = Util.gstrmer(width=640, height=480)\n",
    "\n",
    "camera = cv2.VideoCapture(cam, cv2.CAP_GSTREAMER)\n",
    "if not camera.isOpened():\n",
    "    print(\"Not found camera\")\n",
    "\n",
    "width = camera.get(cv2.CAP_PROP_FRAME_WIDTH)\n",
    "height = camera.get(cv2.CAP_PROP_FRAME_HEIGHT)\n",
    "print(\"init width: %d, init height: %d\" % (width,height))\n",
    "\n",
    "for _ in range(120):\n",
    "    ret, frame = camera.read()\n",
    "    if not ret:\n",
    "        break\n",
    "\n",
    "    cv2.imshow(\"soda\", frame)\n",
    "\n",
    "camera.release()\n",
    "cv2.destroyAllWindows()"
   ]
  },
  {
   "cell_type": "code",
   "execution_count": null,
   "metadata": {},
   "outputs": [],
   "source": [
    "from pop import PwmController\n",
    "import time\n",
    "\n",
    "pwm = PwmController()\n",
    "pwm.init()\n",
    "pwm.setChannel(3)\n",
    "pwm.setFreq(50)\n",
    "while True:\n",
    "    pwm.setDuty((0.5/20)*100)\n",
    "    time.sleep(3)\n",
    "    pwm.setDuty((1.5/20)*100)\n",
    "    time.sleep(3)\n",
    "    pwm.setDuty((2.5/20)*100)\n",
    "    time.sleep(3)"
   ]
  },
  {
   "cell_type": "code",
   "execution_count": null,
   "metadata": {},
   "outputs": [],
   "source": [
    "from pop import PwmController\n",
    "import time\n",
    "\n",
    "pwm = PwmController()\n",
    "pwm.init()\n",
    "pwm.setChannel(4)\n",
    "pwm.setFreq(50)\n",
    "while True:\n",
    "    pwm.setDuty((0.5/20)*100)\n",
    "    time.sleep(3)\n",
    "    pwm.setDuty((1.5/20)*100)\n",
    "    time.sleep(3)\n",
    "    pwm.setDuty((2.5/20)*100)\n",
    "    time.sleep(3)"
   ]
  },
  {
   "cell_type": "code",
   "execution_count": 11,
   "metadata": {},
   "outputs": [],
   "source": [
    "from pop import Textlcd \n",
    "import time\n",
    "\n",
    "lcd = Textlcd()\n",
    "\n",
    "str = \"DH SPKT TPHCM\"\n",
    "time.sleep(1)\n",
    "lcd.clear() \n",
    "lcd.print(str)\n",
    "time.sleep(1)\n",
    "lcd.displayShiftR()\n",
    "time.sleep(1)\n",
    "lcd.displayShiftL()\n",
    "time.sleep(1)\n",
    "lcd.displayOff()\n",
    "time.sleep(1)\n",
    "lcd.displayOn()\n",
    "time.sleep(1)"
   ]
  },
  {
   "cell_type": "code",
   "execution_count": null,
   "metadata": {},
   "outputs": [],
   "source": [
    "from pop import Led\n",
    "import time \n",
    "\n",
    "leds = [Led(23), Led(24), Led(25), Led(27)]    \n",
    "\n",
    "while True:\n",
    "    for led in leds:\n",
    "        led.on()\n",
    "        time.sleep(0.5)\n",
    "\n",
    "    for led in leds[-1::-1]:\n",
    "        led.off()\n",
    "        time.sleep(0.5)"
   ]
  },
  {
   "cell_type": "code",
   "execution_count": null,
   "metadata": {},
   "outputs": [],
   "source": [
    "from pop import PwmController\n",
    "import time\n",
    "\n",
    "pwm = PwmController()\n",
    "pwm.init()\n",
    "pwm.setChannel(-1)\n",
    "pwm.setFreq(50)\n",
    "\n",
    "pwm.setChannel(0)\n",
    "for i in range(10):\n",
    "    pwm.setDuty(i*10)\n",
    "    time.sleep(0.5)\n",
    "pwm.setDuty(0)\n",
    "\n",
    "pwm.setChannel(1)\n",
    "for i in range(10):\n",
    "    pwm.setDuty(i*10)\n",
    "    time.sleep(0.5)\n",
    "pwm.setDuty(0)\n",
    "\n",
    "pwm.setChannel(2)\n",
    "for i in range(10):\n",
    "    pwm.setDuty(i*10)\n",
    "    time.sleep(0.5)\n",
    "pwm.setDuty(0)"
   ]
  },
  {
   "cell_type": "code",
   "execution_count": 1,
   "metadata": {},
   "outputs": [],
   "source": [
    "from pop import PiezoBuzzer\n",
    "p = PiezoBuzzer(12)\n",
    "\n",
    "p.setTempo(120)\n",
    "\n",
    "butterfly_scale = [4,4,4, 4,4,4, 4,4,4,4, 4,4,4,  4,4,4,4, 4,4,4, 4,4,4,4, 4,4,4]\n",
    "butterfly_pitch = [8,5,5, 6,3,3, 1,3,5,6, 8,8,8,  8,5,5,5, 6,3,3, 1,5,8,8, 5,5,5]\n",
    "butterfly_duration = [8,8,4,   8,8,4, 8,8,8,8, 8,8,4,  8,8,8,8, 8,8,4, 8,8,8,8, 8,8,4]\n",
    "sheet_butterfly = [butterfly_scale, butterfly_pitch, butterfly_duration]\n",
    "\n",
    "p.play(sheet_butterfly)"
   ]
  },
  {
   "cell_type": "code",
   "execution_count": null,
   "metadata": {},
   "outputs": [],
   "source": [
    "from pop import Fan\n",
    "import time \n",
    "\n",
    "dcfan = Fan(17)\n",
    "\n",
    "while True:\n",
    "    dcfan.on()\n",
    "    time.sleep(3)\n",
    "    dcfan.off()\n",
    "    time.sleep(3)"
   ]
  },
  {
   "cell_type": "code",
   "execution_count": 2,
   "metadata": {},
   "outputs": [
    {
     "name": "stdout",
     "output_type": "stream",
     "text": [
      "0 57.432\n",
      "28.62 57.47\n",
      "28.68 57.323\n",
      "28.73 57.153\n",
      "28.79 56.972\n",
      "28.84 56.846\n",
      "28.88 56.858\n",
      "28.92 56.789\n",
      "28.95 56.703\n",
      "28.98 56.554\n",
      "29.0 56.422\n",
      "29.02 56.263\n",
      "29.04 56.119\n",
      "29.06 56.016\n",
      "29.08 55.926\n",
      "29.09 55.857\n",
      "29.1 55.756\n",
      "29.11 55.642\n",
      "29.12 55.54\n",
      "29.13 55.412\n"
     ]
    }
   ],
   "source": [
    "from pop import TempHumi\n",
    "import time\n",
    "\n",
    "th = TempHumi()\n",
    "\n",
    "for i in range(20):\n",
    "    temp = th.getTemperature()\n",
    "    humi = th.getHumidity()\n",
    "    print(temp, humi)\n",
    "    time.sleep(1)"
   ]
  },
  {
   "cell_type": "code",
   "execution_count": 15,
   "metadata": {},
   "outputs": [
    {
     "name": "stdout",
     "output_type": "stream",
     "text": [
      "ch 10 pushed!\n",
      "\n",
      "ch 8 pushed!\n",
      "\n",
      "ch 4 pushed!\n",
      "\n",
      "ch 4 pushed!\n",
      "\n",
      "ch 4 pushed!\n",
      "\n",
      "ch 3 pushed!\n",
      "\n",
      "ch 3 pushed!\n",
      "\n"
     ]
    }
   ],
   "source": [
    "from pop import Touch \n",
    "import time \n",
    "\n",
    "touch = Touch()\n",
    "\n",
    "for i in range(100):\n",
    "    ret = touch.readAll()\n",
    "    for i in range(12):\n",
    "        if ret[i] == True:\n",
    "            print('ch %d pushed!\\n'%i)\n",
    "\n",
    "        time.sleep(0.01)"
   ]
  },
  {
   "cell_type": "code",
   "execution_count": null,
   "metadata": {},
   "outputs": [],
   "source": []
  },
  {
   "cell_type": "code",
   "execution_count": null,
   "metadata": {},
   "outputs": [],
   "source": []
  },
  {
   "cell_type": "code",
   "execution_count": null,
   "metadata": {},
   "outputs": [],
   "source": []
  }
 ],
 "metadata": {
  "kernelspec": {
   "display_name": "Python 3",
   "language": "python",
   "name": "python3"
  },
  "language_info": {
   "codemirror_mode": {
    "name": "ipython",
    "version": 3
   },
   "file_extension": ".py",
   "mimetype": "text/x-python",
   "name": "python",
   "nbconvert_exporter": "python",
   "pygments_lexer": "ipython3",
   "version": "3.6.9"
  }
 },
 "nbformat": 4,
 "nbformat_minor": 4
}
