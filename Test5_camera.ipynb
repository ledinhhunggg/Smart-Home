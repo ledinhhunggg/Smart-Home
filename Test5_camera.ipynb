{
 "cells": [
  {
   "cell_type": "code",
   "execution_count": null,
   "metadata": {},
   "outputs": [],
   "source": [
    "import cv2\n",
    "from pop import Util\n",
    "\n",
    "Util.enable_imshow()\n",
    "\n",
    "cam = Util.gstrmer(width=640, height=480)\n",
    "\n",
    "camera = cv2.VideoCapture(cam, cv2.CAP_GSTREAMER)\n",
    "if not camera.isOpened():\n",
    "    print(\"Not found camera\")\n",
    "\n",
    "width = camera.get(cv2.CAP_PROP_FRAME_WIDTH)\n",
    "height = camera.get(cv2.CAP_PROP_FRAME_HEIGHT)\n",
    "print(\"init width: %d, init height: %d\" % (width,height))\n",
    "\n",
    "for _ in range(120):\n",
    "    ret, frame = camera.read()\n",
    "    if not ret:\n",
    "        break\n",
    "\n",
    "    cv2.imshow(\"soda\", frame)\n",
    "\n",
    "camera.release()\n",
    "cv2.destroyAllWindows()"
   ]
  },
  {
   "cell_type": "code",
   "execution_count": null,
   "metadata": {},
   "outputs": [],
   "source": []
  }
 ],
 "metadata": {
  "kernelspec": {
   "display_name": "Python 3",
   "language": "python",
   "name": "python3"
  },
  "language_info": {
   "codemirror_mode": {
    "name": "ipython",
    "version": 3
   },
   "file_extension": ".py",
   "mimetype": "text/x-python",
   "name": "python",
   "nbconvert_exporter": "python",
   "pygments_lexer": "ipython3",
   "version": "3.6.9"
  }
 },
 "nbformat": 4,
 "nbformat_minor": 4
}
