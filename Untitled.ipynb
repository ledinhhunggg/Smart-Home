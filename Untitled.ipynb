{
 "cells": [
  {
   "cell_type": "code",
   "execution_count": null,
   "metadata": {},
   "outputs": [],
   "source": [
    "p = 'hello word'\n",
    "print(p)"
   ]
  },
  {
   "cell_type": "code",
   "execution_count": null,
   "metadata": {},
   "outputs": [],
   "source": [
    "from pop import Led\n",
    "import time\n",
    "Leds = Led(23)\n",
    "Leds.on()\n",
    "time.sleep(10)\n",
    "Leds.off()"
   ]
  },
  {
   "cell_type": "code",
   "execution_count": null,
   "metadata": {},
   "outputs": [],
   "source": [
    "from pop import Led\n",
    "import time\n",
    "Leds = [Led(23),Led(24),Led(25),Led(27)]\n",
    "while True:\n",
    "    for Led in Leds:\n",
    "        Led.on()\n",
    "        time.sleep(1)\n",
    "    for Led in Leds [-1::-1]:\n",
    "        Led.off()\n",
    "        time.sleep(1)"
   ]
  },
  {
   "cell_type": "code",
   "execution_count": null,
   "metadata": {},
   "outputs": [],
   "source": [
    "from pop import Led\n",
    "import time\n",
    "Leds= [Led(23), Led(24)]\n",
    "for Led in Leds:\n",
    "    Led.off()"
   ]
  },
  {
   "cell_type": "code",
   "execution_count": null,
   "metadata": {},
   "outputs": [],
   "source": [
    "from pop import Fan\n",
    "import time\n",
    "dcfan=Fan(17)\n",
    "dcfan.on()\n",
    "time.sleep(20)\n",
    "dcfan.off()"
   ]
  },
  {
   "cell_type": "code",
   "execution_count": null,
   "metadata": {},
   "outputs": [],
   "source": [
    "from pop import PiezoBuzzer\n",
    "p=PiezoBuzzer(12)\n",
    "\n",
    "p.tone(4, 8, 4)"
   ]
  },
  {
   "cell_type": "code",
   "execution_count": null,
   "metadata": {},
   "outputs": [],
   "source": [
    "from pop import PiezoBuzzer\n",
    "p=PiezoBuzzer(12)\n",
    "\n",
    "butterfly_scale=[4,4,4, 4,4,4, 4,4,4,4, 4,4,4, 4,4,4,4, 4,4,4, 4,4,4,4, 4,4,4]\n",
    "butterfly_pitch=[8,5,5, 6,3,3, 1,3,5,6, 8,8,8, 8,5,5,5, 6,3,3, 1,5,8,8, 5,5,5]\n",
    "butterfly_duration=[8,8,4, 8,8,4, 8,8,8,8, 8,8,4, 8,8,8,8, 8,8,4, 8,8,8,8, 8,8,4]\n",
    "sheet_butterfly=[butterfly_scale, butterfly_pitch, butterfly_duration]\n",
    "\n",
    "p.play(sheet_butterfly)"
   ]
  },
  {
   "cell_type": "code",
   "execution_count": null,
   "metadata": {},
   "outputs": [],
   "source": [
    "from pop import ShiftRegister\n",
    "import time\n",
    "gpio=[16,5,6]\n",
    "s=ShiftRegister(gpio)\n",
    "s.shiftout(0xff)\n",
    "time.sleep(1)\n",
    "s.shiftout(0x00)\n",
    "time.sleep(1)\n",
    "s.shiftout(0x00)"
   ]
  },
  {
   "cell_type": "code",
   "execution_count": null,
   "metadata": {},
   "outputs": [],
   "source": [
    "from pop import Pir\n",
    "import time\n",
    "\n",
    "pir = Pir(22)\n",
    "\n",
    "while True:\n",
    "    ret = pir.read()\n",
    "    if(ret ==True):\n",
    "        print(\"conguoi...\")\n",
    "        time.sleep(2)\n",
    "    else:\n",
    "        time.sleep(0.1)\n"
   ]
  },
  {
   "cell_type": "code",
   "execution_count": null,
   "metadata": {},
   "outputs": [],
   "source": [
    "from pop import Pir\n",
    "import time\n",
    "\n",
    "pir = Pir(22)\n",
    "\n",
    "def onPir(paran):\n",
    "    ret = pir.read()\n",
    "    if(ret == True):\n",
    "        print(\"detect...\")\n",
    "        time.sleep(20)\n",
    "    else:\n",
    "        time.sleep(0.1)\n",
    "        \n",
    "pir.setCallback(onPir)\n",
    "input(\"Press <Enter>Key...\\n\")"
   ]
  },
  {
   "cell_type": "code",
   "execution_count": null,
   "metadata": {},
   "outputs": [],
   "source": [
    "from pop import Textlcd\n",
    "import time\n",
    "lcd=Textlcd()\n",
    "lcd.clear()\n",
    "lcd.cursorOn(1)\n",
    "time.sleep(1)\n",
    "lcd.cursorShiftR()\n",
    "time.sleep(1)\n",
    "lcd.cursorShiftL()\n",
    "time.sleep(1)\n",
    "lcd.setCursor(10,2)"
   ]
  },
  {
   "cell_type": "code",
   "execution_count": 21,
   "metadata": {},
   "outputs": [],
   "source": [
    "from pop import Textlcd\n",
    "import time\n",
    "lcd=Textlcd()\n",
    "str=\"Hello AIoT Home\"\n",
    "time.sleep(1)\n",
    "lcd.clear()\n",
    "lcd.print(str)\n",
    "time.sleep(1)\n",
    "lcd.displayShiftR()\n",
    "time.sleep(1)\n",
    "lcd.displayShiftL()\n",
    "time.sleep(1)\n",
    "lcd.displayOff()\n",
    "time.sleep(1)\n",
    "lcd.displayOn()\n",
    "time.sleep(1)"
   ]
  },
  {
   "cell_type": "code",
   "execution_count": null,
   "metadata": {},
   "outputs": [],
   "source": [
    "from pop import TempHumi\n",
    "import time \n",
    "\n",
    "th = TempHumi()\n",
    "\n",
    "for i in range(20):\n",
    "    temp = th.getTemperature()\n",
    "    humi = th.getHumidity()\n",
    "    print(temp, humi)\n",
    "    time.sleep(0.5)"
   ]
  },
  {
   "cell_type": "code",
   "execution_count": null,
   "metadata": {},
   "outputs": [],
   "source": [
    "from pop import SpiAdc\n",
    "import time\n",
    "\n",
    "cds = SpiAdc(7)\n",
    "\n",
    "while True:\n",
    " val = cds.read()\n",
    " print(val)\n",
    " \n",
    " time.sleep(0.1)"
   ]
  },
  {
   "cell_type": "code",
   "execution_count": null,
   "metadata": {},
   "outputs": [],
   "source": [
    "from pop import Gas\n",
    "import time\n",
    "\n",
    "gas = Gas(6)\n",
    "\n",
    "while True:\n",
    "    val = gas.readAverage()\n",
    "    print(val)\n",
    "    time.sleep(0.1)"
   ]
  },
  {
   "cell_type": "code",
   "execution_count": null,
   "metadata": {},
   "outputs": [],
   "source": [
    "from pop import Gas\n",
    "import time\n",
    "\n",
    "gas = Gas(6)\n",
    "\n",
    "while True:\n",
    "    val = gas.readAverage()\n",
    "    print(\"val=%d, methan=%d\"%(val,gas.calcMethan(val)))\n",
    "    time.sleep(0.1)"
   ]
  },
  {
   "cell_type": "code",
   "execution_count": 26,
   "metadata": {},
   "outputs": [],
   "source": [
    "from pop import PwmController\n",
    "import time\n",
    "\n",
    "pwm=PwmController()\n",
    "pwm.init()\n",
    "pwm.setChannel(0)\n",
    "pwm.setFreq(50)\n",
    "\n",
    "for i in range(10):\n",
    "    pwm.setDuty(i*10)\n",
    "    time.sleep(0.5)"
   ]
  },
  {
   "cell_type": "code",
   "execution_count": 25,
   "metadata": {},
   "outputs": [],
   "source": [
    "from pop import PwmController\n",
    "import time\n",
    "\n",
    "pwm = PwmController()\n",
    "pwm.init()\n",
    "pwm.setChannel(-1)\n",
    "pwm.setFreq(50)\n",
    "\n",
    "pwm.setChannel(0)\n",
    "for i in range(10):\n",
    "    pwm.setDuty(i*10)\n",
    "    time.sleep(0.5)\n",
    "pwm.setDuty(0)\n",
    "\n",
    "pwm.setChannel(1)\n",
    "for i in range(10):\n",
    "    pwm.setDuty(i*10)\n",
    "    time.sleep(0.5)\n",
    "pwm.setDuty(0)\n",
    "\n",
    "pwm.setChannel(2)\n",
    "for i in range(10):\n",
    "    pwm.setDuty(i*10)\n",
    "    time.sleep(0.5)\n",
    "pwm.setDuty(0)"
   ]
  },
  {
   "cell_type": "code",
   "execution_count": 24,
   "metadata": {},
   "outputs": [
    {
     "ename": "KeyboardInterrupt",
     "evalue": "",
     "output_type": "error",
     "traceback": [
      "\u001b[0;31m---------------------------------------------------------------------------\u001b[0m",
      "\u001b[0;31mKeyboardInterrupt\u001b[0m                         Traceback (most recent call last)",
      "\u001b[0;32m<ipython-input-24-3d535d9eaccf>\u001b[0m in \u001b[0;36m<module>\u001b[0;34m\u001b[0m\n\u001b[1;32m     10\u001b[0m     \u001b[0mtime\u001b[0m\u001b[0;34m.\u001b[0m\u001b[0msleep\u001b[0m\u001b[0;34m(\u001b[0m\u001b[0;36m3\u001b[0m\u001b[0;34m)\u001b[0m\u001b[0;34m\u001b[0m\u001b[0;34m\u001b[0m\u001b[0m\n\u001b[1;32m     11\u001b[0m     \u001b[0mpwm\u001b[0m\u001b[0;34m.\u001b[0m\u001b[0msetDuty\u001b[0m\u001b[0;34m(\u001b[0m\u001b[0;34m(\u001b[0m\u001b[0;36m1.5\u001b[0m\u001b[0;34m/\u001b[0m\u001b[0;36m20\u001b[0m\u001b[0;34m)\u001b[0m\u001b[0;34m*\u001b[0m\u001b[0;36m100\u001b[0m\u001b[0;34m)\u001b[0m\u001b[0;34m\u001b[0m\u001b[0;34m\u001b[0m\u001b[0m\n\u001b[0;32m---> 12\u001b[0;31m     \u001b[0mtime\u001b[0m\u001b[0;34m.\u001b[0m\u001b[0msleep\u001b[0m\u001b[0;34m(\u001b[0m\u001b[0;36m3\u001b[0m\u001b[0;34m)\u001b[0m\u001b[0;34m\u001b[0m\u001b[0;34m\u001b[0m\u001b[0m\n\u001b[0m\u001b[1;32m     13\u001b[0m     \u001b[0mpwm\u001b[0m\u001b[0;34m.\u001b[0m\u001b[0msetDuty\u001b[0m\u001b[0;34m(\u001b[0m\u001b[0;34m(\u001b[0m\u001b[0;36m2.5\u001b[0m\u001b[0;34m/\u001b[0m\u001b[0;36m20\u001b[0m\u001b[0;34m)\u001b[0m\u001b[0;34m*\u001b[0m\u001b[0;36m100\u001b[0m\u001b[0;34m)\u001b[0m\u001b[0;34m\u001b[0m\u001b[0;34m\u001b[0m\u001b[0m\n\u001b[1;32m     14\u001b[0m     \u001b[0mtime\u001b[0m\u001b[0;34m.\u001b[0m\u001b[0msleep\u001b[0m\u001b[0;34m(\u001b[0m\u001b[0;36m3\u001b[0m\u001b[0;34m)\u001b[0m\u001b[0;34m\u001b[0m\u001b[0;34m\u001b[0m\u001b[0m\n",
      "\u001b[0;31mKeyboardInterrupt\u001b[0m: "
     ]
    }
   ],
   "source": [
    "from pop import PwmController\n",
    "import time\n",
    "\n",
    "pwm = PwmController()\n",
    "pwm.init()\n",
    "pwm.setChannel(3)\n",
    "pwm.setFreq(50)\n",
    "while True:\n",
    "    pwm.setDuty((0.5/20)*100)\n",
    "    time.sleep(3)\n",
    "    pwm.setDuty((1.5/20)*100)\n",
    "    time.sleep(3)\n",
    "    pwm.setDuty((2.5/20)*100)\n",
    "    time.sleep(3)"
   ]
  },
  {
   "cell_type": "code",
   "execution_count": null,
   "metadata": {},
   "outputs": [],
   "source": [
    "from pop import PiezoBuzzer\n",
    "p = PiezoBuzzer(12)\n",
    "\n",
    "p.setTempo(120)\n",
    "\n",
    "butterfly_scale = [4,4,4, 4,4,4, 4,4,4,4, 4,4,4,  4,4,4,4, 4,4,4, 4,4,4,4, 4,4,4]\n",
    "butterfly_pitch = [8,5,5, 6,3,3, 1,3,5,6, 8,8,8,  8,5,5,5, 6,3,3, 1,5,8,8, 5,5,5]\n",
    "butterfly_duration = [8,8,4,   8,8,4, 8,8,8,8, 8,8,4,  8,8,8,8, 8,8,4, 8,8,8,8, 8,8,4]\n",
    "sheet_butterfly = [butterfly_scale, butterfly_pitch, butterfly_duration]\n",
    "\n",
    "p.play(sheet_butterfly)\n"
   ]
  },
  {
   "cell_type": "code",
   "execution_count": null,
   "metadata": {},
   "outputs": [],
   "source": [
    "from pop import TempHumi\n",
    "import time\n",
    "\n",
    "th= TempHumi()\n",
    "\n",
    "for i in range(20):\n",
    "    temp= th.getTemperature()\n",
    "    humi= th.getHumidity()\n",
    "    print(temp, humi)\n",
    "    time.sleep(0.5)\n"
   ]
  },
  {
   "cell_type": "code",
   "execution_count": null,
   "metadata": {},
   "outputs": [],
   "source": [
    "from pop import Fan\n",
    "import time \n",
    "\n",
    "dcfan= Fan(17)\n",
    "\n",
    "dcfan.on()\n",
    "time.sleep(40)\n",
    "dcfan.off()\n"
   ]
  },
  {
   "cell_type": "code",
   "execution_count": null,
   "metadata": {},
   "outputs": [],
   "source": [
    "from pop import Led\n",
    "import time\n",
    "\n",
    "leds = [Led(23), Led(24), Led(25), Led(27)]\n",
    "\n",
    "\n",
    "while True:\n",
    "        for led in leds:\n",
    "            led.on()\n",
    "            time.sleep(30)\n",
    "        for led in leds [-1::-1]:\n",
    "            led.off()\n",
    "            time.sleep(0.1)\n",
    "        \n"
   ]
  },
  {
   "cell_type": "code",
   "execution_count": null,
   "metadata": {},
   "outputs": [],
   "source": [
    "from pop import Textlcd \n",
    "import time\n",
    "\n",
    "lcd = Textlcd()\n",
    "\n",
    "str = \"Smart home\"\n",
    "time.sleep(1)\n",
    "lcd.clear() \n",
    "lcd.print(str)\n",
    "time.sleep(1)\n",
    "lcd.displayShiftR()\n",
    "time.sleep(1)\n",
    "lcd.displayShiftL()\n",
    "time.sleep(1)\n",
    "lcd.displayOff()\n",
    "time.sleep(1)\n",
    "lcd.displayOn()\n",
    "time.sleep(1)"
   ]
  },
  {
   "cell_type": "code",
   "execution_count": null,
   "metadata": {},
   "outputs": [],
   "source": [
    "from pop import Dust\n",
    "import time\n",
    "\n",
    "dust = Dust()\n",
    "while True:\n",
    "    dust.read()\n",
    "    print(\"PM 1.0 GRIM : %u μg/m^3”%dust.pm_1p0_grimm)\n",
    "    print(\"PM 2.5 GRIM : %u μg/m^3”%dust.pm_2p5_grimm)\n",
    "    print(\"PM 10 GRIM  : %u μg/m^3”%dust.pm_10_grimm)\n",
    "    time.sleep(0.5)\n"
   ]
  },
  {
   "cell_type": "code",
   "execution_count": null,
   "metadata": {},
   "outputs": [],
   "source": []
  },
  {
   "cell_type": "code",
   "execution_count": null,
   "metadata": {},
   "outputs": [],
   "source": []
  }
 ],
 "metadata": {
  "kernelspec": {
   "display_name": "Python 3",
   "language": "python",
   "name": "python3"
  },
  "language_info": {
   "codemirror_mode": {
    "name": "ipython",
    "version": 3
   },
   "file_extension": ".py",
   "mimetype": "text/x-python",
   "name": "python",
   "nbconvert_exporter": "python",
   "pygments_lexer": "ipython3",
   "version": "3.6.9"
  }
 },
 "nbformat": 4,
 "nbformat_minor": 4
}
