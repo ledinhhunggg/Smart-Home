{
 "cells": [
  {
   "cell_type": "code",
   "execution_count": 5,
   "metadata": {},
   "outputs": [
    {
     "name": "stdout",
     "output_type": "stream",
     "text": [
      "Start Recording...\n",
      "Stop Recording...\n",
      "Start Play...\n",
      "Stop play...\n"
     ]
    }
   ],
   "source": [
    "from pop import AudioRecord,AudioPlay\n",
    "import time\n",
    "\n",
    "with AudioRecord(\"my_record.wav\") as record:\n",
    "    record.run()\n",
    "    print(\"Start Recording...\")    \n",
    "\n",
    "    for _ in range(5):\n",
    "        time.sleep(1)\n",
    "\n",
    "    record.stop()\n",
    "    print(\"Stop Recording...\")    \n",
    "\n",
    "with AudioPlay(\"my_record.wav\", False, True) as play:  \n",
    "    play.run()\n",
    "    print(\"Start Play...\")\n",
    "    for _ in range(12):  \n",
    "        time.sleep(1)\n",
    "\n",
    "    play.stop()\n",
    "    print(\"Stop play...\")"
   ]
  },
  {
   "cell_type": "code",
   "execution_count": null,
   "metadata": {},
   "outputs": [],
   "source": []
  }
 ],
 "metadata": {
  "kernelspec": {
   "display_name": "Python 3.8.10 64-bit",
   "language": "python",
   "name": "python3"
  },
  "language_info": {
   "codemirror_mode": {
    "name": "ipython",
    "version": 3
   },
   "file_extension": ".py",
   "mimetype": "text/x-python",
   "name": "python",
   "nbconvert_exporter": "python",
   "pygments_lexer": "ipython3",
   "version": "3.8.10"
  },
  "vscode": {
   "interpreter": {
    "hash": "3c040059c337deb504f19c673fdcf9a2751b584394b1f9883eb09580a791bf0c"
   }
  }
 },
 "nbformat": 4,
 "nbformat_minor": 4
}
